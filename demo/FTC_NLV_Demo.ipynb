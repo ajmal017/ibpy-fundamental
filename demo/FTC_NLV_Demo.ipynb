{
 "cells": [
  {
   "cell_type": "markdown",
   "metadata": {},
   "source": [
    "# Mass Account Summary Extraction\n",
    "At the Financial Training Centre (FTC) of the School of Business Management in NYP, we conduct trading simulation using Interactive Brokers (IB) TWS. To encourage healthy competition, we extract their NLV from IB and rank them according to their profit and loss (PnL)."
   ]
  },
  {
   "cell_type": "markdown",
   "metadata": {},
   "source": [
    "**import necessary libraries**"
   ]
  },
  {
   "cell_type": "code",
   "execution_count": 1,
   "metadata": {
    "collapsed": true
   },
   "outputs": [],
   "source": [
    "import warnings\n",
    "warnings.filterwarnings('ignore')\n",
    "import pandas as pd\n",
    "import numpy as np"
   ]
  },
  {
   "cell_type": "markdown",
   "metadata": {},
   "source": [
    "**import IbPy library**"
   ]
  },
  {
   "cell_type": "code",
   "execution_count": 2,
   "metadata": {
    "collapsed": false
   },
   "outputs": [],
   "source": [
    "import time\n",
    "from datetime import datetime\n",
    "from IBWrapper import IBWrapper, contract\n",
    "from ib.ext.EClientSocket import EClientSocket\n",
    "from ib.ext.ScannerSubscription import ScannerSubscription"
   ]
  },
  {
   "cell_type": "markdown",
   "metadata": {},
   "source": [
    "**Extract current batch of students' IB account number**"
   ]
  },
  {
   "cell_type": "code",
   "execution_count": 3,
   "metadata": {
    "collapsed": true
   },
   "outputs": [],
   "source": [
    "def obtain_ib_acct():\n",
    "    return pd.read_excel(\"G:/live/CURRENT_BATCH_IB.xlsx\", sheetname=\"2016S1R2\")[['ADM_NO','NAME','IB ACCT']]"
   ]
  },
  {
   "cell_type": "code",
   "execution_count": 4,
   "metadata": {
    "collapsed": false
   },
   "outputs": [],
   "source": [
    "df = obtain_ib_acct()         # Obtain current batch IB account number        "
   ]
  },
  {
   "cell_type": "code",
   "execution_count": 5,
   "metadata": {
    "collapsed": true
   },
   "outputs": [],
   "source": [
    "callback = IBWrapper()        # Instantiate IBWrapper. callback \n",
    "tws = EClientSocket(callback) # Instantiate EClientSocket and return data to callback"
   ]
  },
  {
   "cell_type": "code",
   "execution_count": 6,
   "metadata": {
    "collapsed": true
   },
   "outputs": [],
   "source": [
    "host = \"\"\n",
    "port = 4001\n",
    "clientId = 202"
   ]
  },
  {
   "cell_type": "markdown",
   "metadata": {},
   "source": [
    "**Connect to TWS**"
   ]
  },
  {
   "cell_type": "code",
   "execution_count": 7,
   "metadata": {
    "collapsed": false
   },
   "outputs": [
    {
     "name": "stdout",
     "output_type": "stream",
     "text": [
      "Server Version: 76\n",
      "TWS Time at connection:20160513 11:43:38 SGT\n"
     ]
    }
   ],
   "source": [
    "tws.eConnect(host, port, clientId) # Connect to TWS"
   ]
  },
  {
   "cell_type": "code",
   "execution_count": 8,
   "metadata": {
    "collapsed": false
   },
   "outputs": [],
   "source": [
    "tws.setServerLogLevel(5)           # Set error output to verbose"
   ]
  },
  {
   "cell_type": "code",
   "execution_count": 9,
   "metadata": {
    "collapsed": true
   },
   "outputs": [],
   "source": [
    "create = contract()                # Instantiate contract class\n",
    "callback.initiate_variables()"
   ]
  },
  {
   "cell_type": "markdown",
   "metadata": {},
   "source": [
    "**Submit request for Account Summary. Asking for NLV for \"All\" accounts**"
   ]
  },
  {
   "cell_type": "code",
   "execution_count": 10,
   "metadata": {
    "collapsed": false
   },
   "outputs": [],
   "source": [
    "reqID = 1001\n",
    "tws.reqAccountSummary(reqID,\"All\",\"NetLiquidation\")"
   ]
  },
  {
   "cell_type": "markdown",
   "metadata": {},
   "source": [
    "**TWS often send back duplicate data. We drop the duplicates and keep the last figure**"
   ]
  },
  {
   "cell_type": "code",
   "execution_count": 11,
   "metadata": {
    "collapsed": false
   },
   "outputs": [],
   "source": [
    "res = pd.DataFrame(callback.account_Summary,\n",
    "                  columns = [\"reqID\", \"IB ACCT\", \"Key\", \n",
    "                             \"NLV\", \"Currency\"])[[\"IB ACCT\", \"NLV\"]]\n",
    "res[\"IB ACCT\"].drop_duplicates(keep = \"last\", inplace=True)"
   ]
  },
  {
   "cell_type": "code",
   "execution_count": 12,
   "metadata": {
    "collapsed": false
   },
   "outputs": [],
   "source": [
    "current_batch_nlv = pd.merge(df, res, on=\"IB ACCT\")"
   ]
  },
  {
   "cell_type": "code",
   "execution_count": 13,
   "metadata": {
    "collapsed": false
   },
   "outputs": [],
   "source": [
    "import matplotlib\n",
    "%matplotlib inline\n",
    "matplotlib.style.use(\"ggplot\")"
   ]
  },
  {
   "cell_type": "markdown",
   "metadata": {},
   "source": [
    "**Calculate each student's PnL and visualise the data**"
   ]
  },
  {
   "cell_type": "code",
   "execution_count": 14,
   "metadata": {
    "collapsed": false
   },
   "outputs": [
    {
     "data": {
      "text/plain": [
       "<matplotlib.axes._subplots.AxesSubplot at 0x9444978>"
      ]
     },
     "execution_count": 14,
     "metadata": {},
     "output_type": "execute_result"
    },
    {
     "data": {
      "image/png": "[encoded data removed]",
      "text/plain": [
       "<matplotlib.figure.Figure at 0x944cc18>"
      ]
     },
     "metadata": {},
     "output_type": "display_data"
    }
   ],
   "source": [
    "Init_bal = 1000000\n",
    "current_batch_nlv[\"PnL\"] = current_batch_nlv[\"NLV\"].astype(float) - Init_bal\n",
    "current_batch_nlv.sort_values(by = \"PnL\", ascending=False, inplace=True)\n",
    "current_batch_nlv.plot(kind=\"bar\", x=current_batch_nlv[\"NAME\"].str.split(\" \").str.get(0))"
   ]
  },
  {
   "cell_type": "markdown",
   "metadata": {},
   "source": [
    "**Not a good trading period. Obviously**"
   ]
  },
  {
   "cell_type": "code",
   "execution_count": 15,
   "metadata": {
    "collapsed": false
   },
   "outputs": [],
   "source": [
    "tws.eDisconnect()"
   ]
  }
 ],
 "metadata": {
  "kernelspec": {
   "display_name": "Python 2",
   "language": "python",
   "name": "python2"
  },
  "language_info": {
   "codemirror_mode": {
    "name": "ipython",
    "version": 2
   },
   "file_extension": ".py",
   "mimetype": "text/x-python",
   "name": "python",
   "nbconvert_exporter": "python",
   "pygments_lexer": "ipython2",
   "version": "2.7.11"
  }
 },
 "nbformat": 4,
 "nbformat_minor": 0
}
